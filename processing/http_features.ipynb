{
 "cells": [
  {
   "cell_type": "markdown",
   "id": "dd25aada",
   "metadata": {},
   "source": [
    "<div style=\"width: 100%; clear: both;\">\n",
    "<div style=\"float: left; width: 50%;\">\n",
    "<img src=\"https://www.uoc.edu/portal/_resources/common/imatges/marca_UOC/llibre-estil/logo-UOC-masterbrand.jpg\" align=\"left\">\n",
    "</div>\n",
    "</div>\n",
    "<div style=\"float: right; width: 50%;\">\n",
    "<p style=\"margin: 0; padding-top: 22px; text-align:right;\">TFM - UEBA: Detección de Anomalías</p>\n",
    "<p style=\"margin: 0; text-align:right;\">20231 - Máster universitario en Ciencias de datos (<i>Data science</i>)</p>\n",
    "<p style=\"margin: 0; text-align:right; padding-button: 100px;\">Estudios de Informática, Multimedia y Telecomunicaciones</p>\n",
    "</div>\n",
    "</div>\n",
    "<div style=\"width: 100%; clear: both;\">\n",
    "<div style=\"width:100%;\">&nbsp;</div>"
   ]
  },
  {
   "cell_type": "markdown",
   "id": "785fd7ec",
   "metadata": {},
   "source": [
    "<div class=\"alert alert-block alert-info\">\n",
    "    <strong>Nombre y apellidos:</strong> Alejandro Ortega de los Ríos\n",
    "</div>"
   ]
  },
  {
   "cell_type": "markdown",
   "id": "148a3d61",
   "metadata": {},
   "source": [
    "# Extracción de características - HTTP"
   ]
  },
  {
   "cell_type": "code",
   "execution_count": 1,
   "id": "570de18e",
   "metadata": {},
   "outputs": [],
   "source": [
    "import re\n",
    "import pandas as pd\n",
    "import numpy as np\n",
    "import matplotlib.pyplot as plt"
   ]
  },
  {
   "cell_type": "code",
   "execution_count": 2,
   "id": "05b4ec9b",
   "metadata": {},
   "outputs": [],
   "source": [
    "http_df = pd.read_csv('../data/http.csv')\n",
    "features = pd.read_csv('features.csv')"
   ]
  },
  {
   "cell_type": "code",
   "execution_count": 3,
   "id": "99a48efb",
   "metadata": {},
   "outputs": [
    {
     "data": {
      "text/html": [
       "<div>\n",
       "<style scoped>\n",
       "    .dataframe tbody tr th:only-of-type {\n",
       "        vertical-align: middle;\n",
       "    }\n",
       "\n",
       "    .dataframe tbody tr th {\n",
       "        vertical-align: top;\n",
       "    }\n",
       "\n",
       "    .dataframe thead th {\n",
       "        text-align: right;\n",
       "    }\n",
       "</style>\n",
       "<table border=\"1\" class=\"dataframe\">\n",
       "  <thead>\n",
       "    <tr style=\"text-align: right;\">\n",
       "      <th></th>\n",
       "      <th>id</th>\n",
       "      <th>date</th>\n",
       "      <th>user</th>\n",
       "      <th>pc</th>\n",
       "      <th>url</th>\n",
       "      <th>content</th>\n",
       "    </tr>\n",
       "  </thead>\n",
       "  <tbody>\n",
       "    <tr>\n",
       "      <th>0</th>\n",
       "      <td>{V1Y4-S2IR20QU-6154HFXJ}</td>\n",
       "      <td>01/02/2010 06:55:16</td>\n",
       "      <td>LRR0148</td>\n",
       "      <td>PC-4275</td>\n",
       "      <td>http://msn.com/The_Human_Centipede_First_Seque...</td>\n",
       "      <td>remain representatives consensus concert altho...</td>\n",
       "    </tr>\n",
       "    <tr>\n",
       "      <th>1</th>\n",
       "      <td>{Q5R1-T3EF87UE-2395RWZS}</td>\n",
       "      <td>01/02/2010 07:00:13</td>\n",
       "      <td>NGF0157</td>\n",
       "      <td>PC-6056</td>\n",
       "      <td>http://urbanspoon.com/Plunketts_Creek_Loyalsoc...</td>\n",
       "      <td>festival off northwards than congestion partne...</td>\n",
       "    </tr>\n",
       "    <tr>\n",
       "      <th>2</th>\n",
       "      <td>{X9O1-O0XW52VO-5806RPHG}</td>\n",
       "      <td>01/02/2010 07:03:46</td>\n",
       "      <td>NGF0157</td>\n",
       "      <td>PC-6056</td>\n",
       "      <td>http://aa.com/Rhodocene/rhodocenium/fhaavatqrf...</td>\n",
       "      <td>long away reorganized baldwin seth business 18...</td>\n",
       "    </tr>\n",
       "    <tr>\n",
       "      <th>3</th>\n",
       "      <td>{G5S8-U5OG04TE-5299CCTU}</td>\n",
       "      <td>01/02/2010 07:05:26</td>\n",
       "      <td>IRM0931</td>\n",
       "      <td>PC-7188</td>\n",
       "      <td>http://groupon.com/Leonhard_Euler/leonhard/tne...</td>\n",
       "      <td>among german schwein experimental becomes prev...</td>\n",
       "    </tr>\n",
       "    <tr>\n",
       "      <th>4</th>\n",
       "      <td>{L0R4-A9DH29VP-4553AUWM}</td>\n",
       "      <td>01/02/2010 07:05:52</td>\n",
       "      <td>IRM0931</td>\n",
       "      <td>PC-7188</td>\n",
       "      <td>http://flickr.com/Inauguration_of_Barack_Obama...</td>\n",
       "      <td>kate criteria j 2008 highest 12 include books ...</td>\n",
       "    </tr>\n",
       "  </tbody>\n",
       "</table>\n",
       "</div>"
      ],
      "text/plain": [
       "                         id                 date     user       pc  \\\n",
       "0  {V1Y4-S2IR20QU-6154HFXJ}  01/02/2010 06:55:16  LRR0148  PC-4275   \n",
       "1  {Q5R1-T3EF87UE-2395RWZS}  01/02/2010 07:00:13  NGF0157  PC-6056   \n",
       "2  {X9O1-O0XW52VO-5806RPHG}  01/02/2010 07:03:46  NGF0157  PC-6056   \n",
       "3  {G5S8-U5OG04TE-5299CCTU}  01/02/2010 07:05:26  IRM0931  PC-7188   \n",
       "4  {L0R4-A9DH29VP-4553AUWM}  01/02/2010 07:05:52  IRM0931  PC-7188   \n",
       "\n",
       "                                                 url  \\\n",
       "0  http://msn.com/The_Human_Centipede_First_Seque...   \n",
       "1  http://urbanspoon.com/Plunketts_Creek_Loyalsoc...   \n",
       "2  http://aa.com/Rhodocene/rhodocenium/fhaavatqrf...   \n",
       "3  http://groupon.com/Leonhard_Euler/leonhard/tne...   \n",
       "4  http://flickr.com/Inauguration_of_Barack_Obama...   \n",
       "\n",
       "                                             content  \n",
       "0  remain representatives consensus concert altho...  \n",
       "1  festival off northwards than congestion partne...  \n",
       "2  long away reorganized baldwin seth business 18...  \n",
       "3  among german schwein experimental becomes prev...  \n",
       "4  kate criteria j 2008 highest 12 include books ...  "
      ]
     },
     "execution_count": 3,
     "metadata": {},
     "output_type": "execute_result"
    }
   ],
   "source": [
    "http_df.head()"
   ]
  },
  {
   "cell_type": "code",
   "execution_count": 4,
   "id": "8d2b4b89",
   "metadata": {},
   "outputs": [],
   "source": [
    "insiders_list = features[features['insider'] == 1]['user'].tolist()"
   ]
  },
  {
   "cell_type": "code",
   "execution_count": 5,
   "id": "06d3f476",
   "metadata": {},
   "outputs": [
    {
     "name": "stdout",
     "output_type": "stream",
     "text": [
      "Number of users:  1000\n"
     ]
    }
   ],
   "source": [
    "print(\"Number of users: \", len(http_df['user'].unique()))"
   ]
  },
  {
   "cell_type": "markdown",
   "id": "2aa6a984",
   "metadata": {},
   "source": [
    "## 1. Número de accesos web diarios"
   ]
  },
  {
   "cell_type": "code",
   "execution_count": 6,
   "id": "1b579a4a",
   "metadata": {},
   "outputs": [],
   "source": [
    "#Convierto a fecha\n",
    "http_df['date'] = pd.to_datetime(http_df['date'], format='%m/%d/%Y %H:%M:%S')\n",
    "\n",
    "#Obtengo día de la semana\n",
    "http_df['weekday'] = http_df['date'].dt.weekday\n",
    "\n",
    "#Elimino horas\n",
    "http_df['date'] = http_df['date'].dt.date\n",
    "\n",
    "#Filtro por días laborables y festivos\n",
    "weekday_http = http_df[(http_df['weekday'] != 5) & (http_df['weekday'] != 6)]\n",
    "weekend_http = http_df[(http_df['weekday'] == 5) | (http_df['weekday'] == 6)]"
   ]
  },
  {
   "cell_type": "code",
   "execution_count": 7,
   "id": "45d1d59d",
   "metadata": {},
   "outputs": [],
   "source": [
    "#Promedio de accesos diarios por usuario (laborables y fines de semana)\n",
    "weekday_users_access = weekday_http.groupby(['user', 'date']).size()\n",
    "weekend_users_access = weekend_http.groupby(['user', 'date']).size()"
   ]
  },
  {
   "cell_type": "code",
   "execution_count": 8,
   "id": "406c748f",
   "metadata": {},
   "outputs": [],
   "source": [
    "weekday_users_access = weekday_users_access.groupby('user').mean()\n",
    "weekend_users_access = weekend_users_access.groupby('user').mean()"
   ]
  },
  {
   "cell_type": "code",
   "execution_count": 9,
   "id": "d5570e4b",
   "metadata": {
    "scrolled": true
   },
   "outputs": [
    {
     "name": "stderr",
     "output_type": "stream",
     "text": [
      "C:\\Users\\alexo\\AppData\\Local\\Temp\\ipykernel_7344\\2437322701.py:8: FutureWarning: Passing a set as an indexer is deprecated and will raise in a future version. Use a list instead.\n",
      "  weekend_insiders_access = weekend_users_access[weekend_insiders]\n"
     ]
    }
   ],
   "source": [
    "#Divido entre normal e insiders\n",
    "weekday_normal_access = weekday_users_access[~weekday_users_access.index.isin(insiders_list)]\n",
    "weekday_insiders_access = weekday_users_access[insiders_list]\n",
    "\n",
    "weekend_insiders = set(weekend_users_access.index.tolist()) & set(insiders_list)\n",
    "\n",
    "weekend_normal_access = weekend_users_access[~weekend_users_access.index.isin(weekend_insiders)]\n",
    "weekend_insiders_access = weekend_users_access[weekend_insiders]"
   ]
  },
  {
   "cell_type": "code",
   "execution_count": 10,
   "id": "3d0a57d4",
   "metadata": {},
   "outputs": [
    {
     "data": {
      "image/png": "[encoded data removed]",
      "text/plain": [
       "<Figure size 1400x600 with 2 Axes>"
      ]
     },
     "metadata": {},
     "output_type": "display_data"
    }
   ],
   "source": [
    "#Histograma - Número de visitas diarias\n",
    "fig, axes = plt.subplots(nrows=1, ncols=2, figsize=(14, 6))\n",
    "\n",
    "#Genero histograma para días laborables\n",
    "axes[0].hist(weekday_normal_access, edgecolor='black', alpha=0.9, density=True, label='Normal')\n",
    "axes[0].hist(weekday_insiders_access, edgecolor='black', color='green', alpha=0.7, density=True, label='Insider')\n",
    "axes[0].set_xlabel('Número de visitas')\n",
    "axes[0].set_ylabel('Frecuencia')\n",
    "axes[0].set_title('Número visitas diarias (Días Laborables)')\n",
    "axes[0].legend()\n",
    "\n",
    "#Genero histograma para días festivos\n",
    "axes[1].hist(weekend_normal_access, edgecolor='black', alpha=0.9, density=True, label='Normal')\n",
    "axes[1].hist(weekend_insiders_access, edgecolor='black', color='green', alpha=0.7, density=True, label='Insider')\n",
    "axes[1].set_xlabel('Número de visitas')\n",
    "axes[1].set_ylabel('Frecuencia')\n",
    "axes[1].set_title('Número visitas diarias (Fines de semana)')\n",
    "axes[1].legend()\n",
    "\n",
    "plt.tight_layout()\n",
    "plt.show()"
   ]
  },
  {
   "cell_type": "markdown",
   "id": "46e4f424",
   "metadata": {},
   "source": [
    "## 2. Sitios web maliciosos"
   ]
  },
  {
   "cell_type": "markdown",
   "id": "9986604c",
   "metadata": {},
   "source": [
    "### 2.1. Protocolo HTTP Seguro"
   ]
  },
  {
   "cell_type": "code",
   "execution_count": 11,
   "id": "7eaa9d1a",
   "metadata": {},
   "outputs": [],
   "source": [
    "def regex_secure(url):\n",
    "    if re.match(r'^https:', url):\n",
    "        return 1\n",
    "    \n",
    "    elif re.match(r'^http:', url):\n",
    "        return 0"
   ]
  },
  {
   "cell_type": "code",
   "execution_count": 12,
   "id": "292c4909",
   "metadata": {},
   "outputs": [],
   "source": [
    "http_df['secure'] = http_df['url'].apply(regex_secure)"
   ]
  },
  {
   "cell_type": "code",
   "execution_count": 13,
   "id": "dae008e9",
   "metadata": {},
   "outputs": [
    {
     "name": "stdout",
     "output_type": "stream",
     "text": [
      "Número de sitios web con HTTP Seguro: 0\n",
      "Número de sitios web con HTTP NO Seguro: 28434423\n",
      "Número de registros del dataset:  28434423\n"
     ]
    }
   ],
   "source": [
    "print(\"Número de sitios web con HTTP Seguro: {}\".format(len(http_df[http_df['secure'] == 1])))\n",
    "print(\"Número de sitios web con HTTP NO Seguro: {}\".format(len(http_df[http_df['secure'] == 0])))\n",
    "print(\"Número de registros del dataset: \", len(http_df))"
   ]
  },
  {
   "cell_type": "markdown",
   "id": "f385f800",
   "metadata": {},
   "source": [
    "<div style=\"background-color: #fcf2f2; border-color: #dfb5b4; border-left: 5px solid #dfb5b4; padding: 0.5em;\">\n",
    "<strong>Comentarios:</strong>\n",
    "<br><br>\n",
    "CERT dataset no contempla sitios web con protocolo seguro HTTPS. Sin duda esta variable habría sido una característica interesante a analizar a la hora de determinar el nivel de fiabilidad de un sitio web.\n",
    "<br><br>\n",
    "</div>"
   ]
  },
  {
   "cell_type": "markdown",
   "id": "d3a04ab9",
   "metadata": {},
   "source": [
    "### 2.2. Direcciones recortadas"
   ]
  },
  {
   "cell_type": "markdown",
   "id": "76746d29",
   "metadata": {},
   "source": [
    "Las direcciones recortadas a menudo ocultan la verdadera URL, lo que facilita a los ciberdelincuentes engañar a las personas para que visiten sitios web fraudulentos. Estos sitios maliciosos pueden ser utilizados para robar información personal, distribuir malware"
   ]
  },
  {
   "cell_type": "code",
   "execution_count": 14,
   "id": "aa8a92d5",
   "metadata": {},
   "outputs": [],
   "source": [
    "def detectar_url_recortada(url):\n",
    "    regex = r\"http://(bitly|tinyurl\\.com|ow\\.ly|is\\.gd|t\\.co)/(.)+\"\n",
    "    \n",
    "    if re.search(regex, url):\n",
    "        return 1\n",
    "    else:\n",
    "        return 0"
   ]
  },
  {
   "cell_type": "code",
   "execution_count": 15,
   "id": "2be158a8",
   "metadata": {},
   "outputs": [],
   "source": [
    "http_df['shortened_url'] = http_df['url'].apply(detectar_url_recortada)"
   ]
  },
  {
   "cell_type": "code",
   "execution_count": 16,
   "id": "d3c283a7",
   "metadata": {},
   "outputs": [
    {
     "data": {
      "text/html": [
       "<div>\n",
       "<style scoped>\n",
       "    .dataframe tbody tr th:only-of-type {\n",
       "        vertical-align: middle;\n",
       "    }\n",
       "\n",
       "    .dataframe tbody tr th {\n",
       "        vertical-align: top;\n",
       "    }\n",
       "\n",
       "    .dataframe thead th {\n",
       "        text-align: right;\n",
       "    }\n",
       "</style>\n",
       "<table border=\"1\" class=\"dataframe\">\n",
       "  <thead>\n",
       "    <tr style=\"text-align: right;\">\n",
       "      <th></th>\n",
       "      <th>url</th>\n",
       "      <th>shortened_url</th>\n",
       "    </tr>\n",
       "  </thead>\n",
       "  <tbody>\n",
       "    <tr>\n",
       "      <th>103</th>\n",
       "      <td>http://t.co/Sydney_Newman/nfbs/ovplpyrgbhevate...</td>\n",
       "      <td>1</td>\n",
       "    </tr>\n",
       "    <tr>\n",
       "      <th>431</th>\n",
       "      <td>http://t.co/Sydney_Newman/nfbs/ovplpyrgbhevate...</td>\n",
       "      <td>1</td>\n",
       "    </tr>\n",
       "    <tr>\n",
       "      <th>1076</th>\n",
       "      <td>http://t.co/Sydney_Newman/nfbs/ovplpyrgbhevate...</td>\n",
       "      <td>1</td>\n",
       "    </tr>\n",
       "    <tr>\n",
       "      <th>1089</th>\n",
       "      <td>http://t.co/Sydney_Newman/nfbs/ovplpyrgbhevate...</td>\n",
       "      <td>1</td>\n",
       "    </tr>\n",
       "    <tr>\n",
       "      <th>1241</th>\n",
       "      <td>http://t.co/Sydney_Newman/nfbs/ovplpyrgbhevate...</td>\n",
       "      <td>1</td>\n",
       "    </tr>\n",
       "    <tr>\n",
       "      <th>...</th>\n",
       "      <td>...</td>\n",
       "      <td>...</td>\n",
       "    </tr>\n",
       "    <tr>\n",
       "      <th>28430953</th>\n",
       "      <td>http://t.co/Sydney_Newman/nfbs/ovplpyrgbhevate...</td>\n",
       "      <td>1</td>\n",
       "    </tr>\n",
       "    <tr>\n",
       "      <th>28431003</th>\n",
       "      <td>http://t.co/Sydney_Newman/nfbs/ovplpyrgbhevate...</td>\n",
       "      <td>1</td>\n",
       "    </tr>\n",
       "    <tr>\n",
       "      <th>28432061</th>\n",
       "      <td>http://t.co/Tropical_Storm_Faxai_2007/miyakeji...</td>\n",
       "      <td>1</td>\n",
       "    </tr>\n",
       "    <tr>\n",
       "      <th>28432094</th>\n",
       "      <td>http://t.co/Final_Fantasy_X2/personfirst/zbhag...</td>\n",
       "      <td>1</td>\n",
       "    </tr>\n",
       "    <tr>\n",
       "      <th>28433002</th>\n",
       "      <td>http://t.co/Palladian_architecture/palladian/f...</td>\n",
       "      <td>1</td>\n",
       "    </tr>\n",
       "  </tbody>\n",
       "</table>\n",
       "<p>124308 rows × 2 columns</p>\n",
       "</div>"
      ],
      "text/plain": [
       "                                                        url  shortened_url\n",
       "103       http://t.co/Sydney_Newman/nfbs/ovplpyrgbhevate...              1\n",
       "431       http://t.co/Sydney_Newman/nfbs/ovplpyrgbhevate...              1\n",
       "1076      http://t.co/Sydney_Newman/nfbs/ovplpyrgbhevate...              1\n",
       "1089      http://t.co/Sydney_Newman/nfbs/ovplpyrgbhevate...              1\n",
       "1241      http://t.co/Sydney_Newman/nfbs/ovplpyrgbhevate...              1\n",
       "...                                                     ...            ...\n",
       "28430953  http://t.co/Sydney_Newman/nfbs/ovplpyrgbhevate...              1\n",
       "28431003  http://t.co/Sydney_Newman/nfbs/ovplpyrgbhevate...              1\n",
       "28432061  http://t.co/Tropical_Storm_Faxai_2007/miyakeji...              1\n",
       "28432094  http://t.co/Final_Fantasy_X2/personfirst/zbhag...              1\n",
       "28433002  http://t.co/Palladian_architecture/palladian/f...              1\n",
       "\n",
       "[124308 rows x 2 columns]"
      ]
     },
     "execution_count": 16,
     "metadata": {},
     "output_type": "execute_result"
    }
   ],
   "source": [
    "http_df[http_df['shortened_url'] == 1][['url', 'shortened_url']]"
   ]
  },
  {
   "cell_type": "code",
   "execution_count": 17,
   "id": "43d26401",
   "metadata": {},
   "outputs": [],
   "source": [
    "#Filtro por días laborables y festivos\n",
    "weekday_http = http_df[(http_df['weekday'] != 5) & (http_df['weekday'] != 6)]\n",
    "weekend_http = http_df[(http_df['weekday'] == 5) | (http_df['weekday'] == 6)]\n",
    "\n",
    "#Filtro los registros con url recortadas\n",
    "weekday_shortened = weekday_http[weekday_http['shortened_url'] == 1].groupby(['user', 'date']).size().groupby('user').mean()\n",
    "weekend_shortened = weekend_http[weekend_http['shortened_url'] == 1].groupby(['user', 'date']).size().groupby('user').mean()"
   ]
  },
  {
   "cell_type": "code",
   "execution_count": 18,
   "id": "2d0e2d81",
   "metadata": {},
   "outputs": [
    {
     "name": "stderr",
     "output_type": "stream",
     "text": [
      "C:\\Users\\alexo\\AppData\\Local\\Temp\\ipykernel_7344\\3087787663.py:7: FutureWarning: Passing a set as an indexer is deprecated and will raise in a future version. Use a list instead.\n",
      "  weekday_insiders_shortened = weekday_shortened[weekday_insiders]\n",
      "C:\\Users\\alexo\\AppData\\Local\\Temp\\ipykernel_7344\\3087787663.py:10: FutureWarning: Passing a set as an indexer is deprecated and will raise in a future version. Use a list instead.\n",
      "  weekend_insiders_shortened = weekend_shortened[weekend_insiders]\n"
     ]
    }
   ],
   "source": [
    "#Obtengo lista de insiders que usan url recortadas en laborables o fines de semana\n",
    "weekday_insiders = set(weekday_shortened.index.tolist()) & set(insiders_list)\n",
    "weekend_insiders = set(weekend_shortened.index.tolist()) & set(insiders_list)\n",
    "\n",
    "#Filtro por insiders y normal\n",
    "weekday_normal_shortened = weekday_shortened[~weekday_shortened.index.isin(weekday_insiders)]\n",
    "weekday_insiders_shortened = weekday_shortened[weekday_insiders]\n",
    "\n",
    "weekend_normal_shortened = weekend_shortened[~weekend_shortened.index.isin(weekend_insiders)]\n",
    "weekend_insiders_shortened = weekend_shortened[weekend_insiders]"
   ]
  },
  {
   "cell_type": "code",
   "execution_count": 19,
   "id": "a4e14cec",
   "metadata": {},
   "outputs": [
    {
     "name": "stdout",
     "output_type": "stream",
     "text": [
      "Number of insiders using shortened URL on Weekdays:  25\n",
      "Number of insiders using shortened URL on Weekends:  0\n"
     ]
    }
   ],
   "source": [
    "print(\"Number of insiders using shortened URL on Weekdays: \", len(weekday_insiders))\n",
    "print(\"Number of insiders using shortened URL on Weekends: \", len(weekend_insiders))"
   ]
  },
  {
   "cell_type": "code",
   "execution_count": 20,
   "id": "f02d0ada",
   "metadata": {},
   "outputs": [
    {
     "data": {
      "image/png": "[encoded data removed]",
      "text/plain": [
       "<Figure size 640x480 with 1 Axes>"
      ]
     },
     "metadata": {},
     "output_type": "display_data"
    }
   ],
   "source": [
    "#Histograma - Número de visitas diarias a direcciones recortadas\n",
    "plt.hist(weekday_normal_shortened, edgecolor='black', alpha=0.9, density=True, label='Normal')\n",
    "plt.hist(weekday_insiders_shortened, edgecolor='black', color='green', alpha=0.7, density=True, label='Insider')\n",
    "plt.xlabel('Número de visitas')\n",
    "plt.ylabel('Frecuencia')\n",
    "plt.title('Número visitas diarias (Días Laborables)')\n",
    "plt.legend()\n",
    "\n",
    "plt.tight_layout()\n",
    "plt.show()"
   ]
  },
  {
   "cell_type": "markdown",
   "id": "fd3aa1d3",
   "metadata": {},
   "source": [
    "### 2.3. Dominio de nivel superior (TLD)"
   ]
  },
  {
   "cell_type": "markdown",
   "id": "7f7cdf74",
   "metadata": {},
   "source": [
    "Los dominios de nivel superior (TLD) son la parte más alta de una dirección web, como \".com\" o \".org\". Estos TLDs proporcionan información sobre la naturaleza o la ubicación geográfica del sitio web. Algunos TLDs, como \".gov\" o \".edu\", tienden a transmitir credibilidad y confianza debido a sus procesos de verificación estrictos.\n",
    "\n",
    "Aunque no exista relación directa entre la seguridad del sitio web y el TLD, puede ser interesante determinar (durante la selección de características) si esta variable captura alguna relación para determinar el nivel de fiabilidad del sitio web visitado."
   ]
  },
  {
   "cell_type": "code",
   "execution_count": 22,
   "id": "b499fe65",
   "metadata": {},
   "outputs": [],
   "source": [
    "#Extraigo TLD\n",
    "tld_regex = r\"([a-zA-Z0-9-]+\\.)+(com|org|net|uk|us|gov|am|eu|co|fm|tv|li|me|ph)\\S*\"\n",
    "http_df['tld'] = http_df['url'].str.extract(tld_regex)[1]"
   ]
  },
  {
   "cell_type": "code",
   "execution_count": 23,
   "id": "c45b0e6e",
   "metadata": {},
   "outputs": [
    {
     "data": {
      "text/plain": [
       "array(['com', 'org', 'net', 'gov', 'co', 'am', 'li', 'uk', 'fm', 'eu',\n",
       "       'us', 'tv', 'me', 'ph'], dtype=object)"
      ]
     },
     "execution_count": 23,
     "metadata": {},
     "output_type": "execute_result"
    }
   ],
   "source": [
    "#Tipos de dominio en el dataset\n",
    "http_df['tld'].unique()"
   ]
  },
  {
   "cell_type": "code",
   "execution_count": 37,
   "id": "abbb3e8f",
   "metadata": {},
   "outputs": [],
   "source": [
    "#Valor promedio diario\n",
    "tld_df = http_df.groupby(['user', 'date', 'tld']).size().groupby(['user', 'tld']).mean()\n",
    "tld_df = tld_df.reset_index()"
   ]
  },
  {
   "cell_type": "code",
   "execution_count": 40,
   "id": "c8ba482d",
   "metadata": {},
   "outputs": [],
   "source": [
    "#Divido entre insidesr y normal\n",
    "tld_insiders = tld_df[tld_df['user'].isin(insiders_list)\n",
    "tld_normal = tld_df[~tld_df['user'].isin(insiders_list)]"
   ]
  },
  {
   "cell_type": "code",
   "execution_count": 50,
   "id": "23d29be4",
   "metadata": {},
   "outputs": [
    {
     "name": "stderr",
     "output_type": "stream",
     "text": [
      "C:\\Users\\alexo\\AppData\\Local\\Temp\\ipykernel_7344\\3900188072.py:1: FutureWarning: The default value of numeric_only in DataFrameGroupBy.mean is deprecated. In a future version, numeric_only will default to False. Either specify numeric_only or select only columns which should be valid for the function.\n",
      "  tld_insiders_count = tld_insiders.groupby(['tld']).mean().reset_index()\n",
      "C:\\Users\\alexo\\AppData\\Local\\Temp\\ipykernel_7344\\3900188072.py:2: FutureWarning: The default value of numeric_only in DataFrameGroupBy.mean is deprecated. In a future version, numeric_only will default to False. Either specify numeric_only or select only columns which should be valid for the function.\n",
      "  tld_normal_count = tld_normal.groupby(['tld']).mean().reset_index()\n"
     ]
    }
   ],
   "source": [
    "#Valor promedio\n",
    "tld_insiders_count = tld_insiders.groupby(['tld']).mean().reset_index()\n",
    "tld_normal_count = tld_normal.groupby(['tld']).mean().reset_index()"
   ]
  },
  {
   "cell_type": "code",
   "execution_count": 64,
   "id": "5c9926ec",
   "metadata": {},
   "outputs": [
    {
     "data": {
      "image/png": "[encoded data removed]",
      "text/plain": [
       "<Figure size 1000x600 with 1 Axes>"
      ]
     },
     "metadata": {},
     "output_type": "display_data"
    }
   ],
   "source": [
    "# Crear el gráfico de barras\n",
    "plt.figure(figsize=(10, 6))\n",
    "plt.bar(tld_insiders_count.index, tld_insiders_count[0], edgecolor='black', alpha= 0.6, label='Insiders')\n",
    "plt.bar(tld_normal_count.index, tld_normal_count[0], color='green', alpha= 0.4, edgecolor='black', label='Normal')\n",
    "\n",
    "# Añadir título y etiquetas de los ejes\n",
    "plt.title('Valores por tld')\n",
    "plt.xlabel('Índice')\n",
    "plt.ylabel('Valor')\n",
    "plt.legend()\n",
    "plt.xticks(tld_insiders_count.index, tld_insiders_count['tld'])  # Añadir las etiquetas de 'tld' en el eje x\n",
    "plt.tight_layout()\n",
    "\n",
    "# Mostrar el gráfico\n",
    "plt.show()"
   ]
  },
  {
   "cell_type": "code",
   "execution_count": 209,
   "id": "0c95e120",
   "metadata": {},
   "outputs": [
    {
     "data": {
      "text/html": [
       "<div>\n",
       "<style scoped>\n",
       "    .dataframe tbody tr th:only-of-type {\n",
       "        vertical-align: middle;\n",
       "    }\n",
       "\n",
       "    .dataframe tbody tr th {\n",
       "        vertical-align: top;\n",
       "    }\n",
       "\n",
       "    .dataframe thead th {\n",
       "        text-align: right;\n",
       "    }\n",
       "</style>\n",
       "<table border=\"1\" class=\"dataframe\">\n",
       "  <thead>\n",
       "    <tr style=\"text-align: right;\">\n",
       "      <th>tld</th>\n",
       "      <th>user</th>\n",
       "      <th>tld_am</th>\n",
       "      <th>tld_co</th>\n",
       "      <th>tld_com</th>\n",
       "      <th>tld_eu</th>\n",
       "      <th>tld_fm</th>\n",
       "      <th>tld_gov</th>\n",
       "      <th>tld_li</th>\n",
       "      <th>tld_me</th>\n",
       "      <th>tld_net</th>\n",
       "      <th>tld_org</th>\n",
       "      <th>tld_ph</th>\n",
       "      <th>tld_tv</th>\n",
       "      <th>tld_uk</th>\n",
       "      <th>tld_us</th>\n",
       "    </tr>\n",
       "  </thead>\n",
       "  <tbody>\n",
       "    <tr>\n",
       "      <th>0</th>\n",
       "      <td>AAE0190</td>\n",
       "      <td>4.483986</td>\n",
       "      <td>0.000000</td>\n",
       "      <td>127.927746</td>\n",
       "      <td>0.0</td>\n",
       "      <td>1.875000</td>\n",
       "      <td>1.890110</td>\n",
       "      <td>0.0</td>\n",
       "      <td>0.0</td>\n",
       "      <td>5.504792</td>\n",
       "      <td>3.010101</td>\n",
       "      <td>1.000000</td>\n",
       "      <td>6.271845</td>\n",
       "      <td>1.500000</td>\n",
       "      <td>1.27451</td>\n",
       "    </tr>\n",
       "    <tr>\n",
       "      <th>1</th>\n",
       "      <td>AAF0535</td>\n",
       "      <td>0.000000</td>\n",
       "      <td>1.000000</td>\n",
       "      <td>23.225610</td>\n",
       "      <td>0.0</td>\n",
       "      <td>1.333333</td>\n",
       "      <td>0.000000</td>\n",
       "      <td>0.0</td>\n",
       "      <td>0.0</td>\n",
       "      <td>1.827160</td>\n",
       "      <td>4.775000</td>\n",
       "      <td>0.000000</td>\n",
       "      <td>0.000000</td>\n",
       "      <td>1.536842</td>\n",
       "      <td>1.00000</td>\n",
       "    </tr>\n",
       "    <tr>\n",
       "      <th>2</th>\n",
       "      <td>AAF0791</td>\n",
       "      <td>1.000000</td>\n",
       "      <td>1.857143</td>\n",
       "      <td>83.393064</td>\n",
       "      <td>1.0</td>\n",
       "      <td>1.333333</td>\n",
       "      <td>1.000000</td>\n",
       "      <td>0.0</td>\n",
       "      <td>1.0</td>\n",
       "      <td>4.566343</td>\n",
       "      <td>5.913690</td>\n",
       "      <td>1.000000</td>\n",
       "      <td>0.000000</td>\n",
       "      <td>2.284884</td>\n",
       "      <td>1.00000</td>\n",
       "    </tr>\n",
       "    <tr>\n",
       "      <th>3</th>\n",
       "      <td>AAL0706</td>\n",
       "      <td>0.000000</td>\n",
       "      <td>1.000000</td>\n",
       "      <td>7.699422</td>\n",
       "      <td>0.0</td>\n",
       "      <td>0.000000</td>\n",
       "      <td>1.532258</td>\n",
       "      <td>0.0</td>\n",
       "      <td>0.0</td>\n",
       "      <td>1.257576</td>\n",
       "      <td>1.422460</td>\n",
       "      <td>1.139535</td>\n",
       "      <td>0.000000</td>\n",
       "      <td>1.043478</td>\n",
       "      <td>1.00000</td>\n",
       "    </tr>\n",
       "    <tr>\n",
       "      <th>4</th>\n",
       "      <td>AAM0658</td>\n",
       "      <td>0.000000</td>\n",
       "      <td>1.000000</td>\n",
       "      <td>23.200000</td>\n",
       "      <td>0.0</td>\n",
       "      <td>0.000000</td>\n",
       "      <td>0.000000</td>\n",
       "      <td>0.0</td>\n",
       "      <td>0.0</td>\n",
       "      <td>2.107143</td>\n",
       "      <td>4.023474</td>\n",
       "      <td>1.000000</td>\n",
       "      <td>0.000000</td>\n",
       "      <td>1.244898</td>\n",
       "      <td>0.00000</td>\n",
       "    </tr>\n",
       "  </tbody>\n",
       "</table>\n",
       "</div>"
      ],
      "text/plain": [
       "tld     user    tld_am    tld_co     tld_com  tld_eu    tld_fm   tld_gov  \\\n",
       "0    AAE0190  4.483986  0.000000  127.927746     0.0  1.875000  1.890110   \n",
       "1    AAF0535  0.000000  1.000000   23.225610     0.0  1.333333  0.000000   \n",
       "2    AAF0791  1.000000  1.857143   83.393064     1.0  1.333333  1.000000   \n",
       "3    AAL0706  0.000000  1.000000    7.699422     0.0  0.000000  1.532258   \n",
       "4    AAM0658  0.000000  1.000000   23.200000     0.0  0.000000  0.000000   \n",
       "\n",
       "tld  tld_li  tld_me   tld_net   tld_org    tld_ph    tld_tv    tld_uk   tld_us  \n",
       "0       0.0     0.0  5.504792  3.010101  1.000000  6.271845  1.500000  1.27451  \n",
       "1       0.0     0.0  1.827160  4.775000  0.000000  0.000000  1.536842  1.00000  \n",
       "2       0.0     1.0  4.566343  5.913690  1.000000  0.000000  2.284884  1.00000  \n",
       "3       0.0     0.0  1.257576  1.422460  1.139535  0.000000  1.043478  1.00000  \n",
       "4       0.0     0.0  2.107143  4.023474  1.000000  0.000000  1.244898  0.00000  "
      ]
     },
     "execution_count": 209,
     "metadata": {},
     "output_type": "execute_result"
    }
   ],
   "source": [
    "#Normalizo la columna tld para convertir en campo cada dominio\n",
    "tld_cleaned_df = tld_df.pivot_table(index='user', columns='tld', values=0).fillna(0).reset_index()\n",
    "tld_cleaned_df = tld_cleaned_df.rename(columns={col: 'tld_' + col if col != 'user' else col for col in tld_cleaned_df.columns})\n",
    "tld_cleaned_df.head()"
   ]
  },
  {
   "cell_type": "markdown",
   "id": "8d9ef9d4",
   "metadata": {},
   "source": [
    "### 2.3. Dominios menos comunes (potencialmente maliciosos)"
   ]
  },
  {
   "cell_type": "code",
   "execution_count": 85,
   "id": "1cd3d0dd",
   "metadata": {},
   "outputs": [],
   "source": [
    "url_regex = r\"(?<=://)(.*?\\.(?:com|org|net|uk|us|gov|am|eu|co|fm|tv|li|me|ph))\"\n",
    "http_df['url'] = http_df['url'].str.extract(url_regex)"
   ]
  },
  {
   "cell_type": "code",
   "execution_count": 137,
   "id": "ab7046d0",
   "metadata": {},
   "outputs": [],
   "source": [
    "#Lista negra de sitios web\n",
    "url_top = http_df['url'].value_counts()\n",
    "\n",
    "# Escojo los 15 menos comunes del dataset\n",
    "least_common = url_top.nsmallest(15)"
   ]
  },
  {
   "cell_type": "code",
   "execution_count": 138,
   "id": "7e0052d5",
   "metadata": {},
   "outputs": [
    {
     "name": "stdout",
     "output_type": "stream",
     "text": [
      "www.best-spy-soft.com             1\n",
      "www.actionalert.com               2\n",
      "www.spectorsoft.com               3\n",
      "cars.com                          3\n",
      "www.webwatchernow.com             3\n",
      "www.keylogpc.com                  4\n",
      "www.softactivity.com              4\n",
      "www.actualkeylogger.com           4\n",
      "www.relytec.com                   5\n",
      "download.cnet.com                 6\n",
      "www.wellresearchedreviews.com     6\n",
      "www.dailykeylogger.com            6\n",
      "blackhatworld.com                 8\n",
      "www.refog.com                     9\n",
      "wikileaks.org                    69\n",
      "Name: url, dtype: int64\n"
     ]
    }
   ],
   "source": [
    "print(least_common)"
   ]
  },
  {
   "cell_type": "code",
   "execution_count": 139,
   "id": "d6a5dcd7",
   "metadata": {},
   "outputs": [],
   "source": [
    "#Exploración visual del conjunto de dominios - Eliminación de valores\n",
    "least_common = least_common.drop([\"download.cnet.com\", \"cars.com\"])"
   ]
  },
  {
   "cell_type": "code",
   "execution_count": 140,
   "id": "86d743ae",
   "metadata": {},
   "outputs": [
    {
     "data": {
      "image/png": "[encoded data removed]",
      "text/plain": [
       "<Figure size 1000x600 with 1 Axes>"
      ]
     },
     "metadata": {},
     "output_type": "display_data"
    }
   ],
   "source": [
    "#Diagrama de barras - Lista negra de dominios\n",
    "plt.figure(figsize=(10, 6))\n",
    "least_common.plot(kind='bar', edgecolor='black')\n",
    "plt.xlabel('Dominio')\n",
    "plt.ylabel('Cantidad')\n",
    "plt.title('Dominios maliciosos')\n",
    "plt.xticks(rotation=45, ha='right')\n",
    "plt.tight_layout()\n",
    "plt.savefig('../img/black_domains.jpg')\n",
    "plt.show()"
   ]
  },
  {
   "cell_type": "markdown",
   "id": "89d5afa1",
   "metadata": {},
   "source": [
    "Los dominios menos visitados como norma general corresponderán con los potencialmente maliciosos. Ya lo hemos visto con \"cars.com\", que ha sido eliminado dado que es un dominio seguro. Del mismo modo, sitios más visitados como \"thepiratebay.org\" y \"lifehacker.com\" deberían ser añadidos."
   ]
  },
  {
   "cell_type": "code",
   "execution_count": 141,
   "id": "8e133320",
   "metadata": {},
   "outputs": [],
   "source": [
    "#Exploración visual del conjunto de dominios - Inputación de valores\n",
    "least_common[\"thepiratebay.org\"] = url_top[\"thepiratebay.org\"]\n",
    "least_common[\"lifehacker.com\"] = url_top[\"lifehacker.com\"]"
   ]
  },
  {
   "cell_type": "code",
   "execution_count": 155,
   "id": "7861a44f",
   "metadata": {},
   "outputs": [],
   "source": [
    "#Dominios maliciosos - Clase categórica\n",
    "black_list = least_common.index.tolist()\n",
    "http_df['black_domain'] = http_df['url'].apply(lambda x: 1 if x in black_list else 0)"
   ]
  },
  {
   "cell_type": "code",
   "execution_count": 182,
   "id": "151a6ab8",
   "metadata": {},
   "outputs": [
    {
     "name": "stdout",
     "output_type": "stream",
     "text": [
      "Número de insiders que visitan dominios maliciosos: 54 (77.14%)\n"
     ]
    },
    {
     "name": "stderr",
     "output_type": "stream",
     "text": [
      "C:\\Users\\alexo\\AppData\\Local\\Temp\\ipykernel_7344\\2111957548.py:6: FutureWarning: Passing a set as an indexer is deprecated and will raise in a future version. Use a list instead.\n",
      "  black_insiders = black_counts[black_insiders_list]\n"
     ]
    }
   ],
   "source": [
    "#Promedio diario de dominios maliciosos visitados\n",
    "black_counts = http_df[http_df['black_domain'] == 1].groupby(['user', 'date']).size().groupby('user').mean()\n",
    "\n",
    "#Lista de insiders que visitan dominios maliciosos\n",
    "black_insiders_list = set(black_counts.index) & set(insiders_list)\n",
    "black_insiders = black_counts[black_insiders_list]\n",
    "black_normal = black_counts[~black_counts.index.isin(black_insiders_list)]\n",
    "\n",
    "black_insiders_percentage = 100 * len(black_insiders) / len(insiders_list)\n",
    "print(\"Número de insiders que visitan dominios maliciosos: {} ({}%)\".format(len(black_insiders), \n",
    "                                                                            round(black_insiders_percentage, 2)))"
   ]
  },
  {
   "cell_type": "code",
   "execution_count": 184,
   "id": "03929601",
   "metadata": {},
   "outputs": [
    {
     "data": {
      "image/png": "[encoded data removed]",
      "text/plain": [
       "<Figure size 640x480 with 1 Axes>"
      ]
     },
     "metadata": {},
     "output_type": "display_data"
    }
   ],
   "source": [
    "#Histograma - Número de visitas diarias a direcciones maliciosas\n",
    "plt.hist(black_normal, edgecolor='black', alpha=0.9, density=True, label='Normal')\n",
    "plt.hist(black_insiders, edgecolor='black', color='green', alpha=0.7, density=True, label='Insider')\n",
    "plt.xlabel('Número de visitas')\n",
    "plt.ylabel('Frecuencia')\n",
    "plt.title('Número visitas maliciosas al día')\n",
    "plt.legend()\n",
    "\n",
    "plt.tight_layout()\n",
    "plt.show()"
   ]
  },
  {
   "cell_type": "markdown",
   "id": "d0d5dc6a",
   "metadata": {},
   "source": [
    "## 3. Espacio de Características"
   ]
  },
  {
   "cell_type": "code",
   "execution_count": 201,
   "id": "651ef3b1",
   "metadata": {},
   "outputs": [],
   "source": [
    "##Convierto a diccionario\n",
    "\n",
    "#Accesos diarios\n",
    "weekday_users_access_dict = weekday_users_access.to_dict()\n",
    "weekend_users_access_dict = weekend_users_access.to_dict()\n",
    "\n",
    "#URL recortadas\n",
    "weekday_shortened_dict = weekday_shortened.to_dict()\n",
    "\n",
    "#Dominios maliciosos\n",
    "black_counts_dict = black_counts.to_dict()"
   ]
  },
  {
   "cell_type": "code",
   "execution_count": 202,
   "id": "8c724158",
   "metadata": {},
   "outputs": [],
   "source": [
    "#Mapeo diccionarios y los convierto en columnas de features\n",
    "features['weekday_http'] = features['user'].map(weekday_users_access_dict).fillna(0)\n",
    "features['weekend_http'] = features['user'].map(weekend_users_access_dict).fillna(0)\n",
    "features['url_shortened'] = features['user'].map(weekday_shortened_dict).fillna(0)\n",
    "features['black_domains'] = features['user'].map(black_counts_dict).fillna(0)"
   ]
  },
  {
   "cell_type": "code",
   "execution_count": 210,
   "id": "a1c6a0f2",
   "metadata": {},
   "outputs": [],
   "source": [
    "#Combino con el dataset tld_cleaned_df\n",
    "features_merged = features.merge(tld_cleaned_df, on='user', how='left')\n",
    "features_merged.drop(columns=['Unnamed: 0'], inplace=True)"
   ]
  },
  {
   "cell_type": "code",
   "execution_count": 211,
   "id": "0d2d1b72",
   "metadata": {},
   "outputs": [
    {
     "data": {
      "text/html": [
       "<div>\n",
       "<style scoped>\n",
       "    .dataframe tbody tr th:only-of-type {\n",
       "        vertical-align: middle;\n",
       "    }\n",
       "\n",
       "    .dataframe tbody tr th {\n",
       "        vertical-align: top;\n",
       "    }\n",
       "\n",
       "    .dataframe thead th {\n",
       "        text-align: right;\n",
       "    }\n",
       "</style>\n",
       "<table border=\"1\" class=\"dataframe\">\n",
       "  <thead>\n",
       "    <tr style=\"text-align: right;\">\n",
       "      <th></th>\n",
       "      <th>user</th>\n",
       "      <th>email_size</th>\n",
       "      <th>attachments</th>\n",
       "      <th>recipients</th>\n",
       "      <th>working_day_emails</th>\n",
       "      <th>address_count</th>\n",
       "      <th>weekend_emails</th>\n",
       "      <th>insider</th>\n",
       "      <th>working_day_files</th>\n",
       "      <th>weekend_files</th>\n",
       "      <th>...</th>\n",
       "      <th>tld_fm</th>\n",
       "      <th>tld_gov</th>\n",
       "      <th>tld_li</th>\n",
       "      <th>tld_me</th>\n",
       "      <th>tld_net</th>\n",
       "      <th>tld_org</th>\n",
       "      <th>tld_ph</th>\n",
       "      <th>tld_tv</th>\n",
       "      <th>tld_uk</th>\n",
       "      <th>tld_us</th>\n",
       "    </tr>\n",
       "  </thead>\n",
       "  <tbody>\n",
       "    <tr>\n",
       "      <th>0</th>\n",
       "      <td>LAP0338</td>\n",
       "      <td>30020.394184</td>\n",
       "      <td>0.377839</td>\n",
       "      <td>1.638930</td>\n",
       "      <td>13.655072</td>\n",
       "      <td>2</td>\n",
       "      <td>2</td>\n",
       "      <td>0</td>\n",
       "      <td>0</td>\n",
       "      <td>0</td>\n",
       "      <td>...</td>\n",
       "      <td>0.0</td>\n",
       "      <td>1.062500</td>\n",
       "      <td>0.0</td>\n",
       "      <td>1.304878</td>\n",
       "      <td>2.390805</td>\n",
       "      <td>1.505495</td>\n",
       "      <td>1.0</td>\n",
       "      <td>0.0</td>\n",
       "      <td>1.000000</td>\n",
       "      <td>0.0</td>\n",
       "    </tr>\n",
       "    <tr>\n",
       "      <th>1</th>\n",
       "      <td>MOH0273</td>\n",
       "      <td>30397.402083</td>\n",
       "      <td>0.758333</td>\n",
       "      <td>1.670833</td>\n",
       "      <td>2.962963</td>\n",
       "      <td>2</td>\n",
       "      <td>8</td>\n",
       "      <td>0</td>\n",
       "      <td>23</td>\n",
       "      <td>22</td>\n",
       "      <td>...</td>\n",
       "      <td>0.0</td>\n",
       "      <td>0.000000</td>\n",
       "      <td>0.0</td>\n",
       "      <td>1.000000</td>\n",
       "      <td>6.741848</td>\n",
       "      <td>2.861386</td>\n",
       "      <td>0.0</td>\n",
       "      <td>0.0</td>\n",
       "      <td>1.000000</td>\n",
       "      <td>0.0</td>\n",
       "    </tr>\n",
       "    <tr>\n",
       "      <th>2</th>\n",
       "      <td>HVB0037</td>\n",
       "      <td>29958.497676</td>\n",
       "      <td>0.000000</td>\n",
       "      <td>1.658367</td>\n",
       "      <td>8.705202</td>\n",
       "      <td>3</td>\n",
       "      <td>13</td>\n",
       "      <td>0</td>\n",
       "      <td>0</td>\n",
       "      <td>0</td>\n",
       "      <td>...</td>\n",
       "      <td>0.0</td>\n",
       "      <td>4.352751</td>\n",
       "      <td>0.0</td>\n",
       "      <td>0.000000</td>\n",
       "      <td>3.812317</td>\n",
       "      <td>3.802260</td>\n",
       "      <td>1.0</td>\n",
       "      <td>0.0</td>\n",
       "      <td>1.654321</td>\n",
       "      <td>0.0</td>\n",
       "    </tr>\n",
       "    <tr>\n",
       "      <th>3</th>\n",
       "      <td>NWK0215</td>\n",
       "      <td>29828.181548</td>\n",
       "      <td>0.431548</td>\n",
       "      <td>1.651786</td>\n",
       "      <td>1.000000</td>\n",
       "      <td>2</td>\n",
       "      <td>12</td>\n",
       "      <td>0</td>\n",
       "      <td>0</td>\n",
       "      <td>0</td>\n",
       "      <td>...</td>\n",
       "      <td>1.4</td>\n",
       "      <td>2.333333</td>\n",
       "      <td>0.0</td>\n",
       "      <td>1.000000</td>\n",
       "      <td>2.440758</td>\n",
       "      <td>4.394299</td>\n",
       "      <td>0.0</td>\n",
       "      <td>1.0</td>\n",
       "      <td>2.354167</td>\n",
       "      <td>0.0</td>\n",
       "    </tr>\n",
       "    <tr>\n",
       "      <th>4</th>\n",
       "      <td>LRR0148</td>\n",
       "      <td>29895.532625</td>\n",
       "      <td>0.930197</td>\n",
       "      <td>1.587253</td>\n",
       "      <td>2.941964</td>\n",
       "      <td>2</td>\n",
       "      <td>13</td>\n",
       "      <td>0</td>\n",
       "      <td>3</td>\n",
       "      <td>3</td>\n",
       "      <td>...</td>\n",
       "      <td>1.5</td>\n",
       "      <td>0.000000</td>\n",
       "      <td>0.0</td>\n",
       "      <td>2.184739</td>\n",
       "      <td>5.390052</td>\n",
       "      <td>17.402010</td>\n",
       "      <td>1.0</td>\n",
       "      <td>0.0</td>\n",
       "      <td>3.333333</td>\n",
       "      <td>1.0</td>\n",
       "    </tr>\n",
       "  </tbody>\n",
       "</table>\n",
       "<p>5 rows × 36 columns</p>\n",
       "</div>"
      ],
      "text/plain": [
       "      user    email_size  attachments  recipients  working_day_emails  \\\n",
       "0  LAP0338  30020.394184     0.377839    1.638930           13.655072   \n",
       "1  MOH0273  30397.402083     0.758333    1.670833            2.962963   \n",
       "2  HVB0037  29958.497676     0.000000    1.658367            8.705202   \n",
       "3  NWK0215  29828.181548     0.431548    1.651786            1.000000   \n",
       "4  LRR0148  29895.532625     0.930197    1.587253            2.941964   \n",
       "\n",
       "   address_count  weekend_emails  insider  working_day_files  weekend_files  \\\n",
       "0              2               2        0                  0              0   \n",
       "1              2               8        0                 23             22   \n",
       "2              3              13        0                  0              0   \n",
       "3              2              12        0                  0              0   \n",
       "4              2              13        0                  3              3   \n",
       "\n",
       "   ...  tld_fm   tld_gov  tld_li    tld_me   tld_net    tld_org  tld_ph  \\\n",
       "0  ...     0.0  1.062500     0.0  1.304878  2.390805   1.505495     1.0   \n",
       "1  ...     0.0  0.000000     0.0  1.000000  6.741848   2.861386     0.0   \n",
       "2  ...     0.0  4.352751     0.0  0.000000  3.812317   3.802260     1.0   \n",
       "3  ...     1.4  2.333333     0.0  1.000000  2.440758   4.394299     0.0   \n",
       "4  ...     1.5  0.000000     0.0  2.184739  5.390052  17.402010     1.0   \n",
       "\n",
       "   tld_tv    tld_uk  tld_us  \n",
       "0     0.0  1.000000     0.0  \n",
       "1     0.0  1.000000     0.0  \n",
       "2     0.0  1.654321     0.0  \n",
       "3     1.0  2.354167     0.0  \n",
       "4     0.0  3.333333     1.0  \n",
       "\n",
       "[5 rows x 36 columns]"
      ]
     },
     "execution_count": 211,
     "metadata": {},
     "output_type": "execute_result"
    }
   ],
   "source": [
    "features_merged.head()"
   ]
  },
  {
   "cell_type": "code",
   "execution_count": 214,
   "id": "c054de48",
   "metadata": {},
   "outputs": [],
   "source": [
    "#Guardo espacio de características en fichero\n",
    "features_merged.to_csv('features.csv')"
   ]
  },
  {
   "cell_type": "code",
   "execution_count": null,
   "id": "89682db6",
   "metadata": {},
   "outputs": [],
   "source": []
  }
 ],
 "metadata": {
  "kernelspec": {
   "display_name": "Python 3 (ipykernel)",
   "language": "python",
   "name": "python3"
  },
  "language_info": {
   "codemirror_mode": {
    "name": "ipython",
    "version": 3
   },
   "file_extension": ".py",
   "mimetype": "text/x-python",
   "name": "python",
   "nbconvert_exporter": "python",
   "pygments_lexer": "ipython3",
   "version": "3.9.7"
  }
 },
 "nbformat": 4,
 "nbformat_minor": 5
}
