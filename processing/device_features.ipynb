{
 "cells": [
  {
   "cell_type": "markdown",
   "id": "586eda6b",
   "metadata": {},
   "source": [
    "<div style=\"width: 100%; clear: both;\">\n",
    "<div style=\"float: left; width: 50%;\">\n",
    "<img src=\"https://www.uoc.edu/portal/_resources/common/imatges/marca_UOC/llibre-estil/logo-UOC-masterbrand.jpg\" align=\"left\">\n",
    "</div>\n",
    "</div>\n",
    "<div style=\"float: right; width: 50%;\">\n",
    "<p style=\"margin: 0; padding-top: 22px; text-align:right;\">TFM - UEBA: Detección de Anomalías</p>\n",
    "<p style=\"margin: 0; text-align:right;\">20231 - Máster universitario en Ciencias de datos (<i>Data science</i>)</p>\n",
    "<p style=\"margin: 0; text-align:right; padding-button: 100px;\">Estudios de Informática, Multimedia y Telecomunicaciones</p>\n",
    "</div>\n",
    "</div>\n",
    "<div style=\"width: 100%; clear: both;\">\n",
    "<div style=\"width:100%;\">&nbsp;</div>"
   ]
  },
  {
   "cell_type": "markdown",
   "id": "7a9cba7a",
   "metadata": {},
   "source": [
    "<div class=\"alert alert-block alert-info\">\n",
    "    <strong>Nombre y apellidos:</strong> Alejandro Ortega de los Ríos\n",
    "</div>"
   ]
  },
  {
   "cell_type": "markdown",
   "id": "affe10d2",
   "metadata": {},
   "source": [
    "# Extracción de características - Device"
   ]
  },
  {
   "cell_type": "code",
   "execution_count": 3,
   "id": "f22470e1",
   "metadata": {},
   "outputs": [],
   "source": [
    "import pandas as pd\n",
    "import os\n",
    "import networkx as nx\n",
    "import matplotlib.pyplot as plt\n",
    "import numpy as np"
   ]
  },
  {
   "cell_type": "code",
   "execution_count": 6,
   "id": "b136c3ee",
   "metadata": {},
   "outputs": [],
   "source": [
    "#Exporto ficheros\n",
    "device_df = pd.read_csv('../data/device.csv')\n",
    "features = pd.read_csv('features.csv')"
   ]
  },
  {
   "cell_type": "code",
   "execution_count": 7,
   "id": "d59daff3",
   "metadata": {},
   "outputs": [
    {
     "data": {
      "text/html": [
       "<div>\n",
       "<style scoped>\n",
       "    .dataframe tbody tr th:only-of-type {\n",
       "        vertical-align: middle;\n",
       "    }\n",
       "\n",
       "    .dataframe tbody tr th {\n",
       "        vertical-align: top;\n",
       "    }\n",
       "\n",
       "    .dataframe thead th {\n",
       "        text-align: right;\n",
       "    }\n",
       "</style>\n",
       "<table border=\"1\" class=\"dataframe\">\n",
       "  <thead>\n",
       "    <tr style=\"text-align: right;\">\n",
       "      <th></th>\n",
       "      <th>id</th>\n",
       "      <th>date</th>\n",
       "      <th>user</th>\n",
       "      <th>pc</th>\n",
       "      <th>activity</th>\n",
       "    </tr>\n",
       "  </thead>\n",
       "  <tbody>\n",
       "    <tr>\n",
       "      <th>0</th>\n",
       "      <td>{J1S3-L9UU75BQ-7790ATPL}</td>\n",
       "      <td>01/02/2010 07:21:06</td>\n",
       "      <td>MOH0273</td>\n",
       "      <td>PC-6699</td>\n",
       "      <td>Connect</td>\n",
       "    </tr>\n",
       "    <tr>\n",
       "      <th>1</th>\n",
       "      <td>{N7B5-Y7BB27SI-2946PUJK}</td>\n",
       "      <td>01/02/2010 07:37:41</td>\n",
       "      <td>MOH0273</td>\n",
       "      <td>PC-6699</td>\n",
       "      <td>Disconnect</td>\n",
       "    </tr>\n",
       "    <tr>\n",
       "      <th>2</th>\n",
       "      <td>{U1V9-Z7XT67KV-5649MYHI}</td>\n",
       "      <td>01/02/2010 07:59:11</td>\n",
       "      <td>HPH0075</td>\n",
       "      <td>PC-2417</td>\n",
       "      <td>Connect</td>\n",
       "    </tr>\n",
       "    <tr>\n",
       "      <th>3</th>\n",
       "      <td>{H0Z7-E6GB57XZ-1603MOXD}</td>\n",
       "      <td>01/02/2010 07:59:49</td>\n",
       "      <td>IIW0249</td>\n",
       "      <td>PC-0843</td>\n",
       "      <td>Connect</td>\n",
       "    </tr>\n",
       "    <tr>\n",
       "      <th>4</th>\n",
       "      <td>{L7P2-G4PX02RX-7999GYOY}</td>\n",
       "      <td>01/02/2010 08:04:26</td>\n",
       "      <td>IIW0249</td>\n",
       "      <td>PC-0843</td>\n",
       "      <td>Disconnect</td>\n",
       "    </tr>\n",
       "  </tbody>\n",
       "</table>\n",
       "</div>"
      ],
      "text/plain": [
       "                         id                 date     user       pc    activity\n",
       "0  {J1S3-L9UU75BQ-7790ATPL}  01/02/2010 07:21:06  MOH0273  PC-6699     Connect\n",
       "1  {N7B5-Y7BB27SI-2946PUJK}  01/02/2010 07:37:41  MOH0273  PC-6699  Disconnect\n",
       "2  {U1V9-Z7XT67KV-5649MYHI}  01/02/2010 07:59:11  HPH0075  PC-2417     Connect\n",
       "3  {H0Z7-E6GB57XZ-1603MOXD}  01/02/2010 07:59:49  IIW0249  PC-0843     Connect\n",
       "4  {L7P2-G4PX02RX-7999GYOY}  01/02/2010 08:04:26  IIW0249  PC-0843  Disconnect"
      ]
     },
     "execution_count": 7,
     "metadata": {},
     "output_type": "execute_result"
    }
   ],
   "source": [
    "device_df.head()"
   ]
  },
  {
   "cell_type": "code",
   "execution_count": 8,
   "id": "37b5ef02",
   "metadata": {},
   "outputs": [],
   "source": [
    "#Lista de usuarios maliciosos\n",
    "insiders_list = features[features['insider'] == 1]['user'].tolist()"
   ]
  },
  {
   "cell_type": "code",
   "execution_count": 10,
   "id": "f75229ba",
   "metadata": {},
   "outputs": [
    {
     "data": {
      "text/plain": [
       "265"
      ]
     },
     "execution_count": 10,
     "metadata": {},
     "output_type": "execute_result"
    }
   ],
   "source": [
    "users = device_df['user'].unique()\n",
    "len(users)"
   ]
  },
  {
   "cell_type": "code",
   "execution_count": 11,
   "id": "5bc2091b",
   "metadata": {},
   "outputs": [
    {
     "name": "stdout",
     "output_type": "stream",
     "text": [
      "70\n"
     ]
    }
   ],
   "source": [
    "device_insiders_list = [insider for insider in users if insider in insiders_list]\n",
    "print(len(device_insiders_list))"
   ]
  },
  {
   "cell_type": "markdown",
   "id": "a3b147d1",
   "metadata": {},
   "source": [
    "## 1. Número de conexiones al día"
   ]
  },
  {
   "cell_type": "code",
   "execution_count": 40,
   "id": "e9f51c62",
   "metadata": {},
   "outputs": [],
   "source": [
    "#Organizo el dataset en registros actividad por usuario (connect-disconnect)\n",
    "device_df.sort_values(by=['user', 'date', 'activity'], inplace=True)"
   ]
  },
  {
   "cell_type": "code",
   "execution_count": 44,
   "id": "38aba093",
   "metadata": {},
   "outputs": [
    {
     "data": {
      "text/html": [
       "<div>\n",
       "<style scoped>\n",
       "    .dataframe tbody tr th:only-of-type {\n",
       "        vertical-align: middle;\n",
       "    }\n",
       "\n",
       "    .dataframe tbody tr th {\n",
       "        vertical-align: top;\n",
       "    }\n",
       "\n",
       "    .dataframe thead th {\n",
       "        text-align: right;\n",
       "    }\n",
       "</style>\n",
       "<table border=\"1\" class=\"dataframe\">\n",
       "  <thead>\n",
       "    <tr style=\"text-align: right;\">\n",
       "      <th></th>\n",
       "      <th>id</th>\n",
       "      <th>date</th>\n",
       "      <th>user</th>\n",
       "      <th>pc</th>\n",
       "      <th>activity</th>\n",
       "    </tr>\n",
       "  </thead>\n",
       "  <tbody>\n",
       "    <tr>\n",
       "      <th>1950</th>\n",
       "      <td>{X9U6-C5DZ44YB-2679MEAA}</td>\n",
       "      <td>01/05/2010 11:45:35</td>\n",
       "      <td>AAF0535</td>\n",
       "      <td>PC-2408</td>\n",
       "      <td>Connect</td>\n",
       "    </tr>\n",
       "    <tr>\n",
       "      <th>1972</th>\n",
       "      <td>{P3W1-F1BG76GJ-9248ZOCU}</td>\n",
       "      <td>01/05/2010 12:05:16</td>\n",
       "      <td>AAF0535</td>\n",
       "      <td>PC-2408</td>\n",
       "      <td>Disconnect</td>\n",
       "    </tr>\n",
       "    <tr>\n",
       "      <th>2294</th>\n",
       "      <td>{I9X6-W6PW93FK-8510IFLP}</td>\n",
       "      <td>01/05/2010 15:00:02</td>\n",
       "      <td>AAF0535</td>\n",
       "      <td>PC-2408</td>\n",
       "      <td>Connect</td>\n",
       "    </tr>\n",
       "    <tr>\n",
       "      <th>2302</th>\n",
       "      <td>{N3G6-W7HT07SZ-2437PYMD}</td>\n",
       "      <td>01/05/2010 15:03:36</td>\n",
       "      <td>AAF0535</td>\n",
       "      <td>PC-2408</td>\n",
       "      <td>Disconnect</td>\n",
       "    </tr>\n",
       "    <tr>\n",
       "      <th>3521</th>\n",
       "      <td>{I9D7-P5KX84DF-0543NXRR}</td>\n",
       "      <td>01/06/2010 14:53:30</td>\n",
       "      <td>AAF0535</td>\n",
       "      <td>PC-2408</td>\n",
       "      <td>Connect</td>\n",
       "    </tr>\n",
       "  </tbody>\n",
       "</table>\n",
       "</div>"
      ],
      "text/plain": [
       "                            id                 date     user       pc  \\\n",
       "1950  {X9U6-C5DZ44YB-2679MEAA}  01/05/2010 11:45:35  AAF0535  PC-2408   \n",
       "1972  {P3W1-F1BG76GJ-9248ZOCU}  01/05/2010 12:05:16  AAF0535  PC-2408   \n",
       "2294  {I9X6-W6PW93FK-8510IFLP}  01/05/2010 15:00:02  AAF0535  PC-2408   \n",
       "2302  {N3G6-W7HT07SZ-2437PYMD}  01/05/2010 15:03:36  AAF0535  PC-2408   \n",
       "3521  {I9D7-P5KX84DF-0543NXRR}  01/06/2010 14:53:30  AAF0535  PC-2408   \n",
       "\n",
       "        activity  \n",
       "1950     Connect  \n",
       "1972  Disconnect  \n",
       "2294     Connect  \n",
       "2302  Disconnect  \n",
       "3521     Connect  "
      ]
     },
     "execution_count": 44,
     "metadata": {},
     "output_type": "execute_result"
    }
   ],
   "source": [
    "device_df.head()"
   ]
  },
  {
   "cell_type": "code",
   "execution_count": 65,
   "id": "7e06236c",
   "metadata": {},
   "outputs": [],
   "source": [
    "#Ficheros diarios. Obtengo fecha, hora y día de la semana\n",
    "device_df['date'] = pd.to_datetime(device_df['date'], format='%m/%d/%Y %H:%M:%S')\n",
    "device_df['time'] = device_df['date'].dt.strftime('%H:%M:%S')\n",
    "device_df['date'] = device_df['date'].dt.floor('d')\n",
    "device_df['weekday'] = device_df['date'].dt.dayofweek\n",
    "\n",
    "# Filtro registros para días laborables y fines de semana\n",
    "weekday_connections = device_df[device_df['weekday'] < 5]\n",
    "weekend_connections = device_df[device_df['weekday'] >= 5]\n",
    "\n",
    "# Calculo el número de conexiones por día para cada usuario, dividido por 2 para tener solo las conexiones\n",
    "weekday_connections_per_day = weekday_connections.groupby(['user', 'date']).size() / 2\n",
    "weekend_connections_per_day = weekend_connections.groupby(['user', 'date']).size() / 2\n",
    "\n",
    "# Calculo la conexión media diaria por usuario para días laborables y fines de semana\n",
    "weekday_daily_connections = weekday_connections_per_day.groupby('user').mean()\n",
    "weekend_daily_connections = weekend_connections_per_day.groupby('user').mean()"
   ]
  },
  {
   "cell_type": "code",
   "execution_count": 82,
   "id": "247a0dbb",
   "metadata": {},
   "outputs": [
    {
     "name": "stderr",
     "output_type": "stream",
     "text": [
      "C:\\Users\\alexo\\AppData\\Local\\Temp\\ipykernel_22748\\2524110015.py:16: FutureWarning: Passing a set as an indexer is deprecated and will raise in a future version. Use a list instead.\n",
      "  axes[1].hist(weekend_daily_connections[weekend_insiders], edgecolor='black', color='green', alpha=0.7, density=True, label='Insider')\n"
     ]
    },
    {
     "data": {
      "image/png": "[encoded data removed]",
      "text/plain": [
       "<Figure size 1400x600 with 2 Axes>"
      ]
     },
     "metadata": {},
     "output_type": "display_data"
    }
   ],
   "source": [
    "fig, axes = plt.subplots(nrows=1, ncols=2, figsize=(14, 6))\n",
    "\n",
    "# Histograma para días laborables\n",
    "axes[0].hist(weekday_daily_connections[~weekday_daily_connections.index.isin(insiders_list)], edgecolor='black', alpha=0.9, density=True, label='Normal')\n",
    "axes[0].hist(weekday_daily_connections[insiders_list], edgecolor='black', color='green', alpha=0.7, density=True, label='Insider')\n",
    "axes[0].set_xlabel('Media de dispositivos al día (Días Laborables)')\n",
    "axes[0].set_ylabel('Frecuencia')\n",
    "axes[0].set_title('Número de dispositivos conectados al día (días laborables)')\n",
    "axes[0].legend()\n",
    "\n",
    "# Histograma para fines de semana\n",
    "weekend_insiders = set(weekend_daily_connections.index.tolist()) & set(insiders_list)\n",
    "\n",
    "axes[1].hist(weekend_daily_connections[~weekend_daily_connections.index.isin(weekend_insiders)], edgecolor='black', alpha=0.9, density=True, label='Normal')\n",
    "axes[1].hist(weekend_daily_connections[weekend_insiders], edgecolor='black', color='green', alpha=0.7, density=True, label='Insider')\n",
    "axes[1].set_xlabel('Media de dispositivos conectados al día (Fines de Semana)')\n",
    "axes[1].set_ylabel('Frecuencia')\n",
    "axes[1].set_title('Número de dispositivos conectados al día (fines de semana)')\n",
    "axes[1].legend()\n",
    "\n",
    "plt.tight_layout()\n",
    "plt.show()"
   ]
  },
  {
   "cell_type": "code",
   "execution_count": 84,
   "id": "d7876b66",
   "metadata": {},
   "outputs": [],
   "source": [
    "#Creo un diccionario a partir de weekend_emails\n",
    "weekend_device_dict = weekend_daily_connections.to_dict()\n",
    "weekday_device_dict = weekday_daily_connections.to_dict()\n",
    "\n",
    "# Mapeo el diccionario, le asigno valor si existe, y si no existe le asigno cero\n",
    "features['weekend_device'] = features['user'].map(weekend_device_dict).fillna(0).astype(int)\n",
    "features['weekday_device'] = features['user'].map(weekday_device_dict).fillna(0).astype(int)"
   ]
  },
  {
   "cell_type": "code",
   "execution_count": 89,
   "id": "c5a229be",
   "metadata": {},
   "outputs": [
    {
     "data": {
      "text/html": [
       "<div>\n",
       "<style scoped>\n",
       "    .dataframe tbody tr th:only-of-type {\n",
       "        vertical-align: middle;\n",
       "    }\n",
       "\n",
       "    .dataframe tbody tr th {\n",
       "        vertical-align: top;\n",
       "    }\n",
       "\n",
       "    .dataframe thead th {\n",
       "        text-align: right;\n",
       "    }\n",
       "</style>\n",
       "<table border=\"1\" class=\"dataframe\">\n",
       "  <thead>\n",
       "    <tr style=\"text-align: right;\">\n",
       "      <th></th>\n",
       "      <th>user</th>\n",
       "      <th>email_size</th>\n",
       "      <th>attachments</th>\n",
       "      <th>recipients</th>\n",
       "      <th>working_day_emails</th>\n",
       "      <th>address_count</th>\n",
       "      <th>weekend_emails</th>\n",
       "      <th>insider</th>\n",
       "      <th>working_day_files</th>\n",
       "      <th>weekend_files</th>\n",
       "      <th>doc</th>\n",
       "      <th>exe</th>\n",
       "      <th>jpg</th>\n",
       "      <th>pdf</th>\n",
       "      <th>txt</th>\n",
       "      <th>zip</th>\n",
       "      <th>weekend_device</th>\n",
       "      <th>weekday_device</th>\n",
       "    </tr>\n",
       "  </thead>\n",
       "  <tbody>\n",
       "    <tr>\n",
       "      <th>0</th>\n",
       "      <td>LAP0338</td>\n",
       "      <td>30020.394184</td>\n",
       "      <td>0.377839</td>\n",
       "      <td>1.638930</td>\n",
       "      <td>13.655072</td>\n",
       "      <td>2</td>\n",
       "      <td>2</td>\n",
       "      <td>0</td>\n",
       "      <td>0</td>\n",
       "      <td>0</td>\n",
       "      <td>0.000000</td>\n",
       "      <td>0.000000</td>\n",
       "      <td>0.000000</td>\n",
       "      <td>0.000000</td>\n",
       "      <td>0.000000</td>\n",
       "      <td>0.00000</td>\n",
       "      <td>0</td>\n",
       "      <td>0</td>\n",
       "    </tr>\n",
       "    <tr>\n",
       "      <th>1</th>\n",
       "      <td>MOH0273</td>\n",
       "      <td>30397.402083</td>\n",
       "      <td>0.758333</td>\n",
       "      <td>1.670833</td>\n",
       "      <td>2.962963</td>\n",
       "      <td>2</td>\n",
       "      <td>8</td>\n",
       "      <td>0</td>\n",
       "      <td>23</td>\n",
       "      <td>22</td>\n",
       "      <td>14.877805</td>\n",
       "      <td>0.117207</td>\n",
       "      <td>1.167082</td>\n",
       "      <td>4.683292</td>\n",
       "      <td>1.189526</td>\n",
       "      <td>1.17207</td>\n",
       "      <td>8</td>\n",
       "      <td>7</td>\n",
       "    </tr>\n",
       "    <tr>\n",
       "      <th>2</th>\n",
       "      <td>HVB0037</td>\n",
       "      <td>29958.497676</td>\n",
       "      <td>0.000000</td>\n",
       "      <td>1.658367</td>\n",
       "      <td>8.705202</td>\n",
       "      <td>3</td>\n",
       "      <td>13</td>\n",
       "      <td>0</td>\n",
       "      <td>0</td>\n",
       "      <td>0</td>\n",
       "      <td>0.000000</td>\n",
       "      <td>0.000000</td>\n",
       "      <td>0.000000</td>\n",
       "      <td>0.000000</td>\n",
       "      <td>0.000000</td>\n",
       "      <td>0.00000</td>\n",
       "      <td>0</td>\n",
       "      <td>0</td>\n",
       "    </tr>\n",
       "    <tr>\n",
       "      <th>3</th>\n",
       "      <td>NWK0215</td>\n",
       "      <td>29828.181548</td>\n",
       "      <td>0.431548</td>\n",
       "      <td>1.651786</td>\n",
       "      <td>1.000000</td>\n",
       "      <td>2</td>\n",
       "      <td>12</td>\n",
       "      <td>0</td>\n",
       "      <td>0</td>\n",
       "      <td>0</td>\n",
       "      <td>0.000000</td>\n",
       "      <td>0.000000</td>\n",
       "      <td>0.000000</td>\n",
       "      <td>0.000000</td>\n",
       "      <td>0.000000</td>\n",
       "      <td>0.00000</td>\n",
       "      <td>0</td>\n",
       "      <td>0</td>\n",
       "    </tr>\n",
       "    <tr>\n",
       "      <th>4</th>\n",
       "      <td>LRR0148</td>\n",
       "      <td>29895.532625</td>\n",
       "      <td>0.930197</td>\n",
       "      <td>1.587253</td>\n",
       "      <td>2.941964</td>\n",
       "      <td>2</td>\n",
       "      <td>13</td>\n",
       "      <td>0</td>\n",
       "      <td>3</td>\n",
       "      <td>3</td>\n",
       "      <td>2.273438</td>\n",
       "      <td>0.011719</td>\n",
       "      <td>0.218750</td>\n",
       "      <td>0.671875</td>\n",
       "      <td>0.179688</td>\n",
       "      <td>0.18750</td>\n",
       "      <td>2</td>\n",
       "      <td>2</td>\n",
       "    </tr>\n",
       "  </tbody>\n",
       "</table>\n",
       "</div>"
      ],
      "text/plain": [
       "      user    email_size  attachments  recipients  working_day_emails  \\\n",
       "0  LAP0338  30020.394184     0.377839    1.638930           13.655072   \n",
       "1  MOH0273  30397.402083     0.758333    1.670833            2.962963   \n",
       "2  HVB0037  29958.497676     0.000000    1.658367            8.705202   \n",
       "3  NWK0215  29828.181548     0.431548    1.651786            1.000000   \n",
       "4  LRR0148  29895.532625     0.930197    1.587253            2.941964   \n",
       "\n",
       "   address_count  weekend_emails  insider  working_day_files  weekend_files  \\\n",
       "0              2               2        0                  0              0   \n",
       "1              2               8        0                 23             22   \n",
       "2              3              13        0                  0              0   \n",
       "3              2              12        0                  0              0   \n",
       "4              2              13        0                  3              3   \n",
       "\n",
       "         doc       exe       jpg       pdf       txt      zip  weekend_device  \\\n",
       "0   0.000000  0.000000  0.000000  0.000000  0.000000  0.00000               0   \n",
       "1  14.877805  0.117207  1.167082  4.683292  1.189526  1.17207               8   \n",
       "2   0.000000  0.000000  0.000000  0.000000  0.000000  0.00000               0   \n",
       "3   0.000000  0.000000  0.000000  0.000000  0.000000  0.00000               0   \n",
       "4   2.273438  0.011719  0.218750  0.671875  0.179688  0.18750               2   \n",
       "\n",
       "   weekday_device  \n",
       "0               0  \n",
       "1               7  \n",
       "2               0  \n",
       "3               0  \n",
       "4               2  "
      ]
     },
     "execution_count": 89,
     "metadata": {},
     "output_type": "execute_result"
    }
   ],
   "source": [
    "#Visualizo características\n",
    "features.drop(columns=['Unnamed: 0'], inplace=True)\n",
    "features.head()"
   ]
  },
  {
   "cell_type": "code",
   "execution_count": 91,
   "id": "e7b96552",
   "metadata": {},
   "outputs": [],
   "source": [
    "#Exporto resultados\n",
    "features.to_csv('features.csv')"
   ]
  }
 ],
 "metadata": {
  "kernelspec": {
   "display_name": "Python 3 (ipykernel)",
   "language": "python",
   "name": "python3"
  },
  "language_info": {
   "codemirror_mode": {
    "name": "ipython",
    "version": 3
   },
   "file_extension": ".py",
   "mimetype": "text/x-python",
   "name": "python",
   "nbconvert_exporter": "python",
   "pygments_lexer": "ipython3",
   "version": "3.9.7"
  }
 },
 "nbformat": 4,
 "nbformat_minor": 5
}
