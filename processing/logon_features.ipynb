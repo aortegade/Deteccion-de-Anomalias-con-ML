{
 "cells": [
  {
   "cell_type": "markdown",
   "id": "dd25aada",
   "metadata": {},
   "source": [
    "<div style=\"width: 100%; clear: both;\">\n",
    "<div style=\"float: left; width: 50%;\">\n",
    "<img src=\"https://www.uoc.edu/portal/_resources/common/imatges/marca_UOC/llibre-estil/logo-UOC-masterbrand.jpg\" align=\"left\">\n",
    "</div>\n",
    "</div>\n",
    "<div style=\"float: right; width: 50%;\">\n",
    "<p style=\"margin: 0; padding-top: 22px; text-align:right;\">TFM - UEBA: Detección de Anomalías</p>\n",
    "<p style=\"margin: 0; text-align:right;\">20231 - Máster universitario en Ciencias de datos (<i>Data science</i>)</p>\n",
    "<p style=\"margin: 0; text-align:right; padding-button: 100px;\">Estudios de Informática, Multimedia y Telecomunicaciones</p>\n",
    "</div>\n",
    "</div>\n",
    "<div style=\"width: 100%; clear: both;\">\n",
    "<div style=\"width:100%;\">&nbsp;</div>"
   ]
  },
  {
   "cell_type": "markdown",
   "id": "785fd7ec",
   "metadata": {},
   "source": [
    "<div class=\"alert alert-block alert-info\">\n",
    "    <strong>Nombre y apellidos:</strong> Alejandro Ortega de los Ríos\n",
    "</div>"
   ]
  },
  {
   "cell_type": "markdown",
   "id": "148a3d61",
   "metadata": {},
   "source": [
    "# Extracción de características - Logon"
   ]
  },
  {
   "cell_type": "code",
   "execution_count": 1,
   "id": "570de18e",
   "metadata": {},
   "outputs": [],
   "source": [
    "import pandas as pd\n",
    "import numpy as np\n",
    "import matplotlib.pyplot as plt\n",
    "from datetime import datetime, timedelta"
   ]
  },
  {
   "cell_type": "code",
   "execution_count": 27,
   "id": "05b4ec9b",
   "metadata": {},
   "outputs": [],
   "source": [
    "logon_df = pd.read_csv('../data/logon.csv')\n",
    "features = pd.read_csv('features.csv')"
   ]
  },
  {
   "cell_type": "code",
   "execution_count": 3,
   "id": "99a48efb",
   "metadata": {},
   "outputs": [
    {
     "data": {
      "text/html": [
       "<div>\n",
       "<style scoped>\n",
       "    .dataframe tbody tr th:only-of-type {\n",
       "        vertical-align: middle;\n",
       "    }\n",
       "\n",
       "    .dataframe tbody tr th {\n",
       "        vertical-align: top;\n",
       "    }\n",
       "\n",
       "    .dataframe thead th {\n",
       "        text-align: right;\n",
       "    }\n",
       "</style>\n",
       "<table border=\"1\" class=\"dataframe\">\n",
       "  <thead>\n",
       "    <tr style=\"text-align: right;\">\n",
       "      <th></th>\n",
       "      <th>id</th>\n",
       "      <th>date</th>\n",
       "      <th>user</th>\n",
       "      <th>pc</th>\n",
       "      <th>activity</th>\n",
       "    </tr>\n",
       "  </thead>\n",
       "  <tbody>\n",
       "    <tr>\n",
       "      <th>0</th>\n",
       "      <td>{X1D9-S0ES98JV-5357PWMI}</td>\n",
       "      <td>01/02/2010 06:49:00</td>\n",
       "      <td>NGF0157</td>\n",
       "      <td>PC-6056</td>\n",
       "      <td>Logon</td>\n",
       "    </tr>\n",
       "    <tr>\n",
       "      <th>1</th>\n",
       "      <td>{G2B3-L6EJ61GT-2222RKSO}</td>\n",
       "      <td>01/02/2010 06:50:00</td>\n",
       "      <td>LRR0148</td>\n",
       "      <td>PC-4275</td>\n",
       "      <td>Logon</td>\n",
       "    </tr>\n",
       "    <tr>\n",
       "      <th>2</th>\n",
       "      <td>{U6Q3-U0WE70UA-3770UREL}</td>\n",
       "      <td>01/02/2010 06:53:04</td>\n",
       "      <td>LRR0148</td>\n",
       "      <td>PC-4124</td>\n",
       "      <td>Logon</td>\n",
       "    </tr>\n",
       "    <tr>\n",
       "      <th>3</th>\n",
       "      <td>{I0N5-R7NA26TG-6263KNGM}</td>\n",
       "      <td>01/02/2010 07:00:00</td>\n",
       "      <td>IRM0931</td>\n",
       "      <td>PC-7188</td>\n",
       "      <td>Logon</td>\n",
       "    </tr>\n",
       "    <tr>\n",
       "      <th>4</th>\n",
       "      <td>{D1S0-N6FH62BT-5398KANK}</td>\n",
       "      <td>01/02/2010 07:00:00</td>\n",
       "      <td>MOH0273</td>\n",
       "      <td>PC-6699</td>\n",
       "      <td>Logon</td>\n",
       "    </tr>\n",
       "  </tbody>\n",
       "</table>\n",
       "</div>"
      ],
      "text/plain": [
       "                         id                 date     user       pc activity\n",
       "0  {X1D9-S0ES98JV-5357PWMI}  01/02/2010 06:49:00  NGF0157  PC-6056    Logon\n",
       "1  {G2B3-L6EJ61GT-2222RKSO}  01/02/2010 06:50:00  LRR0148  PC-4275    Logon\n",
       "2  {U6Q3-U0WE70UA-3770UREL}  01/02/2010 06:53:04  LRR0148  PC-4124    Logon\n",
       "3  {I0N5-R7NA26TG-6263KNGM}  01/02/2010 07:00:00  IRM0931  PC-7188    Logon\n",
       "4  {D1S0-N6FH62BT-5398KANK}  01/02/2010 07:00:00  MOH0273  PC-6699    Logon"
      ]
     },
     "execution_count": 3,
     "metadata": {},
     "output_type": "execute_result"
    }
   ],
   "source": [
    "logon_df.head()"
   ]
  },
  {
   "cell_type": "code",
   "execution_count": 4,
   "id": "8d2b4b89",
   "metadata": {},
   "outputs": [],
   "source": [
    "insiders_list = features[features['insider'] == 1]['user'].tolist()"
   ]
  },
  {
   "cell_type": "code",
   "execution_count": 5,
   "id": "f3cb1013",
   "metadata": {},
   "outputs": [
    {
     "name": "stdout",
     "output_type": "stream",
     "text": [
      "Number of rows: 854859\n",
      "Number of insider rows: 49527 (6.0%)\n"
     ]
    }
   ],
   "source": [
    "num_rows = len(logon_df)\n",
    "num_insider_rows = len(logon_df[logon_df['user'].isin(insiders_list)])\n",
    "\n",
    "print(\"Number of rows: {}\".format(num_rows))\n",
    "print(\"Number of insider rows: {} ({}%)\".format(num_insider_rows, np.round(num_insider_rows/num_rows * 100), 1))"
   ]
  },
  {
   "cell_type": "code",
   "execution_count": 6,
   "id": "06d3f476",
   "metadata": {},
   "outputs": [
    {
     "name": "stdout",
     "output_type": "stream",
     "text": [
      "Number of users:  1000\n"
     ]
    }
   ],
   "source": [
    "print(\"Number of users: \", len(logon_df['user'].unique()))"
   ]
  },
  {
   "cell_type": "markdown",
   "id": "2aa6a984",
   "metadata": {},
   "source": [
    "## 1. Número de inicios de sesión al día"
   ]
  },
  {
   "cell_type": "code",
   "execution_count": 7,
   "id": "51756bcc",
   "metadata": {},
   "outputs": [],
   "source": [
    "# Obtengo fecha sin hora\n",
    "logon_df['date_cleaned'] = pd.to_datetime(logon_df['date'], format='%m/%d/%Y %H:%M:%S').dt.date\n",
    "\n",
    "# Agrupo los datos por usuario y día, y calculo el número de inicios de sesión por día para cada usuario\n",
    "average_logins_per_day = logon_df.groupby(['user', 'date']).size().groupby('user').mean()"
   ]
  },
  {
   "cell_type": "code",
   "execution_count": 8,
   "id": "dbc52c3f",
   "metadata": {},
   "outputs": [
    {
     "data": {
      "text/plain": [
       "user\n",
       "KCF0045    1.000360\n",
       "TSM0363    1.000358\n",
       "dtype: float64"
      ]
     },
     "execution_count": 8,
     "metadata": {},
     "output_type": "execute_result"
    }
   ],
   "source": [
    "average_logins_per_day[average_logins_per_day > 1] "
   ]
  },
  {
   "cell_type": "markdown",
   "id": "1008e327",
   "metadata": {},
   "source": [
    "## 2. Duración de la sesión"
   ]
  },
  {
   "cell_type": "code",
   "execution_count": 9,
   "id": "d0c99987",
   "metadata": {},
   "outputs": [],
   "source": [
    "#Organizo el dataset en registros actividad por usuario\n",
    "logon_df.sort_values(by=['user', 'date', 'activity'], inplace=True)\n",
    "logon_df = logon_df.reset_index()"
   ]
  },
  {
   "cell_type": "code",
   "execution_count": 10,
   "id": "8814d9f2",
   "metadata": {},
   "outputs": [],
   "source": [
    "#Sesiones diarias\n",
    "logon_df = logon_df.rename(columns={'date':'logon_date'})\n",
    "logon_df['logoff_date'] = logon_df.groupby('user').apply(lambda x: x['logon_date'].shift(-1) \n",
    "                                             if x['activity'].iloc[0] == 'Logon' else None).reset_index()['logon_date']"
   ]
  },
  {
   "cell_type": "code",
   "execution_count": 11,
   "id": "dfaf11c2",
   "metadata": {},
   "outputs": [
    {
     "name": "stdout",
     "output_type": "stream",
     "text": [
      "Number of sessions without logoff: 288 (0.03%)\n",
      "Number of insider sessions without logoff: 10 (0.02%)\n"
     ]
    }
   ],
   "source": [
    "#Calculo si existen logon posteriores a logoff\n",
    "logon_df['logoff_date'] = pd.to_datetime(logon_df['logoff_date'], format='%m/%d/%Y %H:%M:%S')\n",
    "logon_df['logon_date'] = pd.to_datetime(logon_df['logon_date'], format='%m/%d/%Y %H:%M:%S')\n",
    "\n",
    "err_duration = logon_df[(logon_df['logoff_date'] < logon_df['logon_date']) & (logon_df['activity'] == 'Logon')]\n",
    "num_err_duration = len(err_duration)\n",
    "num_err_duration_insiders = len(err_duration[err_duration['user'].isin(insiders_list)])\n",
    "\n",
    "print(\"Number of sessions without logoff: {} ({}%)\".format(num_err_duration, np.round(num_err_duration / num_rows * 100, 2)))\n",
    "print(\"Number of insider sessions without logoff: {} ({}%)\".format(num_err_duration_insiders, \n",
    "                                                             np.round(num_err_duration_insiders / num_insider_rows * 100, 2)))"
   ]
  },
  {
   "cell_type": "code",
   "execution_count": 12,
   "id": "5853b8a6",
   "metadata": {},
   "outputs": [],
   "source": [
    "#Calculo la duración de cada sesión\n",
    "logon_df['duration'] =  logon_df['logoff_date'] - logon_df['logon_date']\n",
    "logon_df.loc[logon_df['activity'] == 'Logoff', 'duration'] = pd.NA"
   ]
  },
  {
   "cell_type": "code",
   "execution_count": 13,
   "id": "2faae791",
   "metadata": {},
   "outputs": [],
   "source": [
    "#Convierto la duración en horas\n",
    "logon_df['duration'] = logon_df['duration'].dt.total_seconds() / 3600\n",
    "\n",
    "#Filtro las sesiones tengan una duración positiva\n",
    "logon_df_cleaned = logon_df[logon_df['duration'] >= 0]"
   ]
  },
  {
   "cell_type": "code",
   "execution_count": 14,
   "id": "2b449b89",
   "metadata": {},
   "outputs": [
    {
     "name": "stdout",
     "output_type": "stream",
     "text": [
      "Number of sessions longer than 24h: 251 (0.03%)\n",
      "Number of insider sessions longer than 24h: 0 (0.0%)\n"
     ]
    }
   ],
   "source": [
    "#Calculo si existen logon de más de 24h\n",
    "err_duration = logon_df_cleaned[logon_df_cleaned['duration'] >= 24]\n",
    "num_err_duration = len(err_duration)\n",
    "num_err_duration_insiders = len(err_duration[err_duration['user'].isin(insiders_list)])\n",
    "\n",
    "print(\"Number of sessions longer than 24h: {} ({}%)\".format(num_err_duration, np.round(num_err_duration / num_rows * 100, 2)))\n",
    "print(\"Number of insider sessions longer than 24h: {} ({}%)\".format(num_err_duration_insiders, \n",
    "                                                             np.round(num_err_duration_insiders / num_insider_rows * 100,3)))"
   ]
  },
  {
   "cell_type": "code",
   "execution_count": 15,
   "id": "b0e5b12d",
   "metadata": {},
   "outputs": [],
   "source": [
    "logon_df_cleaned = logon_df_cleaned[logon_df_cleaned['duration'] < 24]"
   ]
  },
  {
   "cell_type": "code",
   "execution_count": 16,
   "id": "77e8d04e",
   "metadata": {},
   "outputs": [],
   "source": [
    "#Obtengo día de la semana\n",
    "logon_df_cleaned['weekday'] = pd.to_datetime(logon_df['logon_date']).dt.weekday\n",
    "\n",
    "#Filtro por días laborables y festivos\n",
    "weekday_logon = logon_df_cleaned[(logon_df_cleaned['weekday'] != 5) & (logon_df_cleaned['weekday'] != 6)]\n",
    "weekend_logon = logon_df_cleaned[(logon_df_cleaned['weekday'] == 5) | (logon_df_cleaned['weekday'] == 6)]"
   ]
  },
  {
   "cell_type": "code",
   "execution_count": 17,
   "id": "84f6d2fd",
   "metadata": {},
   "outputs": [
    {
     "name": "stderr",
     "output_type": "stream",
     "text": [
      "C:\\Users\\alexo\\AppData\\Local\\Temp\\ipykernel_1164\\3554076189.py:20: FutureWarning: Passing a set as an indexer is deprecated and will raise in a future version. Use a list instead.\n",
      "  axes[1].hist(weekend_duration[weekend_insiders], edgecolor='black', color='green', alpha=0.7, density=True, label='Insider')\n"
     ]
    },
    {
     "data": {
      "image/png": "[encoded data removed]",
      "text/plain": [
       "<Figure size 1400x600 with 2 Axes>"
      ]
     },
     "metadata": {},
     "output_type": "display_data"
    }
   ],
   "source": [
    "#Divido entre usuario normal e insider\n",
    "weekday_duration = weekday_logon[weekday_logon['activity'] == 'Logon'].groupby('user')['duration'].mean()\n",
    "weekend_duration = weekend_logon[weekend_logon['activity'] == 'Logon'].groupby('user')['duration'].mean()\n",
    "\n",
    "#Obtengo los insiders que inician sesión los fines de semana\n",
    "weekend_insiders = set(weekend_duration.index.tolist()) & set(insiders_list)\n",
    "\n",
    "fig, axes = plt.subplots(nrows=1, ncols=2, figsize=(14, 6))\n",
    "\n",
    "#Genero histograma para días laborables\n",
    "axes[0].hist(weekday_duration[~weekday_duration.index.isin(insiders_list)], edgecolor='black', alpha=0.9, density=True, label='Normal')\n",
    "axes[0].hist(weekday_duration[insiders_list], edgecolor='black', color='green', alpha=0.7, density=True, label='Insider')\n",
    "axes[0].set_xlabel('Duración de una sesión')\n",
    "axes[0].set_ylabel('Frecuencia')\n",
    "axes[0].set_title('Duración media de una sesión (Días Laborables)')\n",
    "axes[0].legend()\n",
    "\n",
    "#Genero histograma para días festivos\n",
    "axes[1].hist(weekend_duration[~weekend_duration.index.isin(weekend_insiders)], edgecolor='black', alpha=0.9, density=True, label='Normal')\n",
    "axes[1].hist(weekend_duration[weekend_insiders], edgecolor='black', color='green', alpha=0.7, density=True, label='Insider')\n",
    "axes[1].set_xlabel('Duración de una sesión')\n",
    "axes[1].set_ylabel('Frecuencia')\n",
    "axes[1].set_title('Duración media de una sesión (Fines de semana)')\n",
    "axes[1].legend()\n",
    "\n",
    "\n",
    "plt.tight_layout()\n",
    "plt.show()"
   ]
  },
  {
   "cell_type": "markdown",
   "id": "4701bb60",
   "metadata": {},
   "source": [
    "## 2. Espacio de Características"
   ]
  },
  {
   "cell_type": "code",
   "execution_count": 18,
   "id": "5cb09706",
   "metadata": {},
   "outputs": [],
   "source": [
    "users = logon_df['user'].unique().tolist()"
   ]
  },
  {
   "cell_type": "code",
   "execution_count": 19,
   "id": "8981eb16",
   "metadata": {},
   "outputs": [],
   "source": [
    "#Creo un diccionario a partir de weekday/weekend_duration\n",
    "weekend_duration_dict = weekend_duration.to_dict()\n",
    "weekday_duration_dict = weekday_duration.to_dict()"
   ]
  },
  {
   "cell_type": "code",
   "execution_count": 20,
   "id": "0b56c61b",
   "metadata": {},
   "outputs": [],
   "source": [
    "#Obtengo horas de logon/logoff\n",
    "logon_hours = logon_df['logon_date'].dt.hour + (logon_df['logon_date'].dt.minute / 60)\n",
    "logoff_hours = logon_df['logoff_date'].dt.hour + (logon_df['logoff_date'].dt.minute / 60)\n",
    "\n",
    "# Reemplazo valor nan en logoff por la hora media de logoff\n",
    "logoff_mean = np.nanmean(logoff_hours)\n",
    "logoff_hours = logoff_hours.fillna(logoff_mean)\n",
    "\n",
    "#Creo diccionario de horas inicio/fin de sesión\n",
    "logon_hours_dict = dict(zip(logon_df['user'], logon_hours))\n",
    "logoff_hours_dict = dict(zip(logon_df['user'], logoff_hours))"
   ]
  },
  {
   "cell_type": "code",
   "execution_count": 21,
   "id": "9d43e7ae",
   "metadata": {},
   "outputs": [],
   "source": [
    "# Asigno los valores correspondientes si el usuario existe en weekend_emails, y cero en caso contrario\n",
    "features['weekend_duration'] = features['user'].map(weekend_duration_dict).fillna(0)\n",
    "features['weekday_duration'] = features['user'].map(weekday_duration_dict).fillna(0)\n",
    "features['logon_hour'] = features['user'].map(logon_hours_dict)\n",
    "features['logoff_hour'] = features['user'].map(logoff_hours_dict)"
   ]
  },
  {
   "cell_type": "code",
   "execution_count": 29,
   "id": "b2bcb342",
   "metadata": {},
   "outputs": [],
   "source": [
    "features.to_csv('features.csv')"
   ]
  }
 ],
 "metadata": {
  "kernelspec": {
   "display_name": "Python 3 (ipykernel)",
   "language": "python",
   "name": "python3"
  },
  "language_info": {
   "codemirror_mode": {
    "name": "ipython",
    "version": 3
   },
   "file_extension": ".py",
   "mimetype": "text/x-python",
   "name": "python",
   "nbconvert_exporter": "python",
   "pygments_lexer": "ipython3",
   "version": "3.9.7"
  }
 },
 "nbformat": 4,
 "nbformat_minor": 5
}
